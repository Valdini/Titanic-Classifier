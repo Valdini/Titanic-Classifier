{
  "nbformat": 4,
  "nbformat_minor": 0,
  "metadata": {
    "colab": {
      "name": "Titanic Survival Pred_Kaggle.ipynb",
      "provenance": [],
      "collapsed_sections": [],
      "include_colab_link": true
    },
    "kernelspec": {
      "name": "python3",
      "display_name": "Python 3"
    },
    "accelerator": "GPU"
  },
  "cells": [
    {
      "cell_type": "markdown",
      "metadata": {
        "id": "view-in-github",
        "colab_type": "text"
      },
      "source": [
        "<a href=\"https://colab.research.google.com/github/Valdini/Titanic-Classifier/blob/main/Titanic_Survival_Pred_Kaggle.ipynb\" target=\"_parent\"><img src=\"https://colab.research.google.com/assets/colab-badge.svg\" alt=\"Open In Colab\"/></a>"
      ]
    },
    {
      "cell_type": "markdown",
      "metadata": {
        "id": "6XYSoE-y9jII"
      },
      "source": [
        "**Imports**"
      ]
    },
    {
      "cell_type": "code",
      "metadata": {
        "id": "W00aurkV_Jjl",
        "outputId": "494feb21-2fef-4ce2-8d35-11ae22b6a2f3",
        "colab": {
          "base_uri": "https://localhost:8080/"
        }
      },
      "source": [
        "import pandas as pd\n",
        "import numpy as np\n",
        "import seaborn as sns\n",
        "import matplotlib.pyplot as plt\n",
        "print('imports done')"
      ],
      "execution_count": 1,
      "outputs": [
        {
          "output_type": "stream",
          "text": [
            "imports done\n"
          ],
          "name": "stdout"
        }
      ]
    },
    {
      "cell_type": "markdown",
      "metadata": {
        "id": "Usu9fbgx_j7d"
      },
      "source": [
        "**Creating dataframes from Titanic data**"
      ]
    },
    {
      "cell_type": "code",
      "metadata": {
        "id": "pa2r5S_x_c5P",
        "outputId": "5b87530d-038b-441c-c9c4-4abe002f7481",
        "colab": {
          "base_uri": "https://localhost:8080/"
        }
      },
      "source": [
        "df_train = pd.read_csv('https://raw.githubusercontent.com/Valdini/Titanic-Classifier/main/train.csv')\n",
        "df_test = pd.read_csv('https://raw.githubusercontent.com/Valdini/Titanic-Classifier/main/test.csv')\n",
        "print('dataframes created')"
      ],
      "execution_count": 2,
      "outputs": [
        {
          "output_type": "stream",
          "text": [
            "dataframes created\n"
          ],
          "name": "stdout"
        }
      ]
    },
    {
      "cell_type": "markdown",
      "metadata": {
        "id": "NYZm3Cog__PO"
      },
      "source": [
        "**Data exploration**"
      ]
    },
    {
      "cell_type": "code",
      "metadata": {
        "id": "1h3mWoSxAlLK",
        "outputId": "e1467b9d-bf5e-4eb3-a597-97282d64c76a",
        "colab": {
          "base_uri": "https://localhost:8080/",
          "height": 194
        }
      },
      "source": [
        "df_train.head()"
      ],
      "execution_count": null,
      "outputs": [
        {
          "output_type": "execute_result",
          "data": {
            "text/html": [
              "<div>\n",
              "<style scoped>\n",
              "    .dataframe tbody tr th:only-of-type {\n",
              "        vertical-align: middle;\n",
              "    }\n",
              "\n",
              "    .dataframe tbody tr th {\n",
              "        vertical-align: top;\n",
              "    }\n",
              "\n",
              "    .dataframe thead th {\n",
              "        text-align: right;\n",
              "    }\n",
              "</style>\n",
              "<table border=\"1\" class=\"dataframe\">\n",
              "  <thead>\n",
              "    <tr style=\"text-align: right;\">\n",
              "      <th></th>\n",
              "      <th>PassengerId</th>\n",
              "      <th>Survived</th>\n",
              "      <th>Pclass</th>\n",
              "      <th>Name</th>\n",
              "      <th>Sex</th>\n",
              "      <th>Age</th>\n",
              "      <th>SibSp</th>\n",
              "      <th>Parch</th>\n",
              "      <th>Ticket</th>\n",
              "      <th>Fare</th>\n",
              "      <th>Cabin</th>\n",
              "      <th>Embarked</th>\n",
              "    </tr>\n",
              "  </thead>\n",
              "  <tbody>\n",
              "    <tr>\n",
              "      <th>0</th>\n",
              "      <td>1</td>\n",
              "      <td>0</td>\n",
              "      <td>3</td>\n",
              "      <td>Braund, Mr. Owen Harris</td>\n",
              "      <td>male</td>\n",
              "      <td>22.0</td>\n",
              "      <td>1</td>\n",
              "      <td>0</td>\n",
              "      <td>A/5 21171</td>\n",
              "      <td>7.2500</td>\n",
              "      <td>NaN</td>\n",
              "      <td>S</td>\n",
              "    </tr>\n",
              "    <tr>\n",
              "      <th>1</th>\n",
              "      <td>2</td>\n",
              "      <td>1</td>\n",
              "      <td>1</td>\n",
              "      <td>Cumings, Mrs. John Bradley (Florence Briggs Th...</td>\n",
              "      <td>female</td>\n",
              "      <td>38.0</td>\n",
              "      <td>1</td>\n",
              "      <td>0</td>\n",
              "      <td>PC 17599</td>\n",
              "      <td>71.2833</td>\n",
              "      <td>C85</td>\n",
              "      <td>C</td>\n",
              "    </tr>\n",
              "    <tr>\n",
              "      <th>2</th>\n",
              "      <td>3</td>\n",
              "      <td>1</td>\n",
              "      <td>3</td>\n",
              "      <td>Heikkinen, Miss. Laina</td>\n",
              "      <td>female</td>\n",
              "      <td>26.0</td>\n",
              "      <td>0</td>\n",
              "      <td>0</td>\n",
              "      <td>STON/O2. 3101282</td>\n",
              "      <td>7.9250</td>\n",
              "      <td>NaN</td>\n",
              "      <td>S</td>\n",
              "    </tr>\n",
              "    <tr>\n",
              "      <th>3</th>\n",
              "      <td>4</td>\n",
              "      <td>1</td>\n",
              "      <td>1</td>\n",
              "      <td>Futrelle, Mrs. Jacques Heath (Lily May Peel)</td>\n",
              "      <td>female</td>\n",
              "      <td>35.0</td>\n",
              "      <td>1</td>\n",
              "      <td>0</td>\n",
              "      <td>113803</td>\n",
              "      <td>53.1000</td>\n",
              "      <td>C123</td>\n",
              "      <td>S</td>\n",
              "    </tr>\n",
              "    <tr>\n",
              "      <th>4</th>\n",
              "      <td>5</td>\n",
              "      <td>0</td>\n",
              "      <td>3</td>\n",
              "      <td>Allen, Mr. William Henry</td>\n",
              "      <td>male</td>\n",
              "      <td>35.0</td>\n",
              "      <td>0</td>\n",
              "      <td>0</td>\n",
              "      <td>373450</td>\n",
              "      <td>8.0500</td>\n",
              "      <td>NaN</td>\n",
              "      <td>S</td>\n",
              "    </tr>\n",
              "  </tbody>\n",
              "</table>\n",
              "</div>"
            ],
            "text/plain": [
              "   PassengerId  Survived  Pclass  ...     Fare Cabin  Embarked\n",
              "0            1         0       3  ...   7.2500   NaN         S\n",
              "1            2         1       1  ...  71.2833   C85         C\n",
              "2            3         1       3  ...   7.9250   NaN         S\n",
              "3            4         1       1  ...  53.1000  C123         S\n",
              "4            5         0       3  ...   8.0500   NaN         S\n",
              "\n",
              "[5 rows x 12 columns]"
            ]
          },
          "metadata": {
            "tags": []
          },
          "execution_count": 353
        }
      ]
    },
    {
      "cell_type": "code",
      "metadata": {
        "id": "3QbXn7ucZ90Z",
        "outputId": "c0d87c8b-3b59-4316-c907-278931f4165b",
        "colab": {
          "base_uri": "https://localhost:8080/"
        }
      },
      "source": [
        "df_train.shape"
      ],
      "execution_count": null,
      "outputs": [
        {
          "output_type": "execute_result",
          "data": {
            "text/plain": [
              "(891, 12)"
            ]
          },
          "metadata": {
            "tags": []
          },
          "execution_count": 354
        }
      ]
    },
    {
      "cell_type": "code",
      "metadata": {
        "id": "1Z4-0gB-aDok",
        "outputId": "87aafd74-11c9-4e7e-f9dd-cf6cff51e5c4",
        "colab": {
          "base_uri": "https://localhost:8080/"
        }
      },
      "source": [
        "df_train.dtypes"
      ],
      "execution_count": null,
      "outputs": [
        {
          "output_type": "execute_result",
          "data": {
            "text/plain": [
              "PassengerId      int64\n",
              "Survived         int64\n",
              "Pclass           int64\n",
              "Name            object\n",
              "Sex             object\n",
              "Age            float64\n",
              "SibSp            int64\n",
              "Parch            int64\n",
              "Ticket          object\n",
              "Fare           float64\n",
              "Cabin           object\n",
              "Embarked        object\n",
              "dtype: object"
            ]
          },
          "metadata": {
            "tags": []
          },
          "execution_count": 355
        }
      ]
    },
    {
      "cell_type": "code",
      "metadata": {
        "id": "EuGUXxaTbVTb",
        "outputId": "6acb5884-bbbf-48f4-809f-281f36abff96",
        "colab": {
          "base_uri": "https://localhost:8080/"
        }
      },
      "source": [
        "df_train['Survived'].value_counts()"
      ],
      "execution_count": null,
      "outputs": [
        {
          "output_type": "execute_result",
          "data": {
            "text/plain": [
              "0    549\n",
              "1    342\n",
              "Name: Survived, dtype: int64"
            ]
          },
          "metadata": {
            "tags": []
          },
          "execution_count": 356
        }
      ]
    },
    {
      "cell_type": "code",
      "metadata": {
        "id": "Ga1nJ1NOhWWX",
        "outputId": "fb292235-730e-493d-e87c-e450a5c63e04",
        "colab": {
          "base_uri": "https://localhost:8080/"
        }
      },
      "source": [
        "df_train['Pclass'].value_counts()"
      ],
      "execution_count": null,
      "outputs": [
        {
          "output_type": "execute_result",
          "data": {
            "text/plain": [
              "3    491\n",
              "1    216\n",
              "2    184\n",
              "Name: Pclass, dtype: int64"
            ]
          },
          "metadata": {
            "tags": []
          },
          "execution_count": 357
        }
      ]
    },
    {
      "cell_type": "code",
      "metadata": {
        "id": "QiVjpXPrh6dW",
        "outputId": "43b220fe-dad6-4090-c68a-9f83805e9218",
        "colab": {
          "base_uri": "https://localhost:8080/"
        }
      },
      "source": [
        "df_train['Sex'].value_counts()"
      ],
      "execution_count": null,
      "outputs": [
        {
          "output_type": "execute_result",
          "data": {
            "text/plain": [
              "male      577\n",
              "female    314\n",
              "Name: Sex, dtype: int64"
            ]
          },
          "metadata": {
            "tags": []
          },
          "execution_count": 358
        }
      ]
    },
    {
      "cell_type": "code",
      "metadata": {
        "id": "_rbnYIH6broQ",
        "outputId": "9ff98c3e-603f-40d5-aceb-9088f9d61162",
        "colab": {
          "base_uri": "https://localhost:8080/",
          "height": 252
        }
      },
      "source": [
        "df_train.corr()"
      ],
      "execution_count": null,
      "outputs": [
        {
          "output_type": "execute_result",
          "data": {
            "text/html": [
              "<div>\n",
              "<style scoped>\n",
              "    .dataframe tbody tr th:only-of-type {\n",
              "        vertical-align: middle;\n",
              "    }\n",
              "\n",
              "    .dataframe tbody tr th {\n",
              "        vertical-align: top;\n",
              "    }\n",
              "\n",
              "    .dataframe thead th {\n",
              "        text-align: right;\n",
              "    }\n",
              "</style>\n",
              "<table border=\"1\" class=\"dataframe\">\n",
              "  <thead>\n",
              "    <tr style=\"text-align: right;\">\n",
              "      <th></th>\n",
              "      <th>PassengerId</th>\n",
              "      <th>Survived</th>\n",
              "      <th>Pclass</th>\n",
              "      <th>Age</th>\n",
              "      <th>SibSp</th>\n",
              "      <th>Parch</th>\n",
              "      <th>Fare</th>\n",
              "    </tr>\n",
              "  </thead>\n",
              "  <tbody>\n",
              "    <tr>\n",
              "      <th>PassengerId</th>\n",
              "      <td>1.000000</td>\n",
              "      <td>-0.005007</td>\n",
              "      <td>-0.035144</td>\n",
              "      <td>0.036847</td>\n",
              "      <td>-0.057527</td>\n",
              "      <td>-0.001652</td>\n",
              "      <td>0.012658</td>\n",
              "    </tr>\n",
              "    <tr>\n",
              "      <th>Survived</th>\n",
              "      <td>-0.005007</td>\n",
              "      <td>1.000000</td>\n",
              "      <td>-0.338481</td>\n",
              "      <td>-0.077221</td>\n",
              "      <td>-0.035322</td>\n",
              "      <td>0.081629</td>\n",
              "      <td>0.257307</td>\n",
              "    </tr>\n",
              "    <tr>\n",
              "      <th>Pclass</th>\n",
              "      <td>-0.035144</td>\n",
              "      <td>-0.338481</td>\n",
              "      <td>1.000000</td>\n",
              "      <td>-0.369226</td>\n",
              "      <td>0.083081</td>\n",
              "      <td>0.018443</td>\n",
              "      <td>-0.549500</td>\n",
              "    </tr>\n",
              "    <tr>\n",
              "      <th>Age</th>\n",
              "      <td>0.036847</td>\n",
              "      <td>-0.077221</td>\n",
              "      <td>-0.369226</td>\n",
              "      <td>1.000000</td>\n",
              "      <td>-0.308247</td>\n",
              "      <td>-0.189119</td>\n",
              "      <td>0.096067</td>\n",
              "    </tr>\n",
              "    <tr>\n",
              "      <th>SibSp</th>\n",
              "      <td>-0.057527</td>\n",
              "      <td>-0.035322</td>\n",
              "      <td>0.083081</td>\n",
              "      <td>-0.308247</td>\n",
              "      <td>1.000000</td>\n",
              "      <td>0.414838</td>\n",
              "      <td>0.159651</td>\n",
              "    </tr>\n",
              "    <tr>\n",
              "      <th>Parch</th>\n",
              "      <td>-0.001652</td>\n",
              "      <td>0.081629</td>\n",
              "      <td>0.018443</td>\n",
              "      <td>-0.189119</td>\n",
              "      <td>0.414838</td>\n",
              "      <td>1.000000</td>\n",
              "      <td>0.216225</td>\n",
              "    </tr>\n",
              "    <tr>\n",
              "      <th>Fare</th>\n",
              "      <td>0.012658</td>\n",
              "      <td>0.257307</td>\n",
              "      <td>-0.549500</td>\n",
              "      <td>0.096067</td>\n",
              "      <td>0.159651</td>\n",
              "      <td>0.216225</td>\n",
              "      <td>1.000000</td>\n",
              "    </tr>\n",
              "  </tbody>\n",
              "</table>\n",
              "</div>"
            ],
            "text/plain": [
              "             PassengerId  Survived    Pclass  ...     SibSp     Parch      Fare\n",
              "PassengerId     1.000000 -0.005007 -0.035144  ... -0.057527 -0.001652  0.012658\n",
              "Survived       -0.005007  1.000000 -0.338481  ... -0.035322  0.081629  0.257307\n",
              "Pclass         -0.035144 -0.338481  1.000000  ...  0.083081  0.018443 -0.549500\n",
              "Age             0.036847 -0.077221 -0.369226  ... -0.308247 -0.189119  0.096067\n",
              "SibSp          -0.057527 -0.035322  0.083081  ...  1.000000  0.414838  0.159651\n",
              "Parch          -0.001652  0.081629  0.018443  ...  0.414838  1.000000  0.216225\n",
              "Fare            0.012658  0.257307 -0.549500  ...  0.159651  0.216225  1.000000\n",
              "\n",
              "[7 rows x 7 columns]"
            ]
          },
          "metadata": {
            "tags": []
          },
          "execution_count": 359
        }
      ]
    },
    {
      "cell_type": "code",
      "metadata": {
        "id": "7jLeGk7Hdt6D",
        "outputId": "97bf9aaf-4916-406a-f874-8cbda92cd92b",
        "colab": {
          "base_uri": "https://localhost:8080/",
          "height": 625
        }
      },
      "source": [
        "f, ax = plt.subplots(figsize=(18, 10))\n",
        "sns.heatmap(df_train.corr(), linewidths=2.0, ax=ax, annot=True)\n",
        "ax.set_title('Correlation Matrix')"
      ],
      "execution_count": null,
      "outputs": [
        {
          "output_type": "execute_result",
          "data": {
            "text/plain": [
              "Text(0.5, 1.0, 'Correlation Matrix')"
            ]
          },
          "metadata": {
            "tags": []
          },
          "execution_count": 360
        },
        {
          "output_type": "display_data",
          "data": {
            "image/png": "[encoded data removed]",
            "text/plain": [
              "<Figure size 1296x720 with 2 Axes>"
            ]
          },
          "metadata": {
            "tags": [],
            "needs_background": "light"
          }
        }
      ]
    },
    {
      "cell_type": "code",
      "metadata": {
        "id": "vgAcnQl_aLxK",
        "outputId": "806731ae-6849-4e2e-f4b4-973e83a189eb",
        "colab": {
          "base_uri": "https://localhost:8080/"
        }
      },
      "source": [
        "df_train.isna().sum()"
      ],
      "execution_count": null,
      "outputs": [
        {
          "output_type": "execute_result",
          "data": {
            "text/plain": [
              "PassengerId      0\n",
              "Survived         0\n",
              "Pclass           0\n",
              "Name             0\n",
              "Sex              0\n",
              "Age            177\n",
              "SibSp            0\n",
              "Parch            0\n",
              "Ticket           0\n",
              "Fare             0\n",
              "Cabin          687\n",
              "Embarked         2\n",
              "dtype: int64"
            ]
          },
          "metadata": {
            "tags": []
          },
          "execution_count": 361
        }
      ]
    },
    {
      "cell_type": "code",
      "metadata": {
        "id": "x36hpCTJUBd4",
        "outputId": "47af44ee-f30b-42da-ce58-1661c0cc6fed",
        "colab": {
          "base_uri": "https://localhost:8080/"
        }
      },
      "source": [
        "df_test.isna().sum()"
      ],
      "execution_count": null,
      "outputs": [
        {
          "output_type": "execute_result",
          "data": {
            "text/plain": [
              "PassengerId      0\n",
              "Pclass           0\n",
              "Name             0\n",
              "Sex              0\n",
              "Age             86\n",
              "SibSp            0\n",
              "Parch            0\n",
              "Ticket           0\n",
              "Fare             1\n",
              "Cabin          327\n",
              "Embarked         0\n",
              "dtype: int64"
            ]
          },
          "metadata": {
            "tags": []
          },
          "execution_count": 362
        }
      ]
    },
    {
      "cell_type": "code",
      "metadata": {
        "id": "gbi5zNIdVVes",
        "outputId": "317307e9-cf91-407d-c368-ea6ae15db904",
        "colab": {
          "base_uri": "https://localhost:8080/"
        }
      },
      "source": [
        "df_test = df_test.fillna(method='bfill')\n",
        "df_test.isna().sum()"
      ],
      "execution_count": null,
      "outputs": [
        {
          "output_type": "execute_result",
          "data": {
            "text/plain": [
              "PassengerId    0\n",
              "Pclass         0\n",
              "Name           0\n",
              "Sex            0\n",
              "Age            2\n",
              "SibSp          0\n",
              "Parch          0\n",
              "Ticket         0\n",
              "Fare           0\n",
              "Cabin          3\n",
              "Embarked       0\n",
              "dtype: int64"
            ]
          },
          "metadata": {
            "tags": []
          },
          "execution_count": 363
        }
      ]
    },
    {
      "cell_type": "code",
      "metadata": {
        "id": "MlH-hxduabDY",
        "outputId": "31e9ff20-1972-48cc-b8d1-1d26b4511c8b",
        "colab": {
          "base_uri": "https://localhost:8080/",
          "height": 283
        }
      },
      "source": [
        "sns.boxplot(data=df_train['Fare'])"
      ],
      "execution_count": null,
      "outputs": [
        {
          "output_type": "execute_result",
          "data": {
            "text/plain": [
              "<matplotlib.axes._subplots.AxesSubplot at 0x7f6781079c50>"
            ]
          },
          "metadata": {
            "tags": []
          },
          "execution_count": 364
        },
        {
          "output_type": "display_data",
          "data": {
            "image/png": "[encoded data removed]",
            "text/plain": [
              "<Figure size 432x288 with 1 Axes>"
            ]
          },
          "metadata": {
            "tags": [],
            "needs_background": "light"
          }
        }
      ]
    },
    {
      "cell_type": "code",
      "metadata": {
        "id": "MYnJrV7Ia1EK",
        "outputId": "59b64e7c-5f9f-4f2b-e541-92d9465aa5d6",
        "colab": {
          "base_uri": "https://localhost:8080/"
        }
      },
      "source": [
        "print(df_train['Fare'].describe())"
      ],
      "execution_count": null,
      "outputs": [
        {
          "output_type": "stream",
          "text": [
            "count    891.000000\n",
            "mean      32.204208\n",
            "std       49.693429\n",
            "min        0.000000\n",
            "25%        7.910400\n",
            "50%       14.454200\n",
            "75%       31.000000\n",
            "max      512.329200\n",
            "Name: Fare, dtype: float64\n"
          ],
          "name": "stdout"
        }
      ]
    },
    {
      "cell_type": "markdown",
      "metadata": {
        "id": "RWDBOD3lcXug"
      },
      "source": [
        "*Observations*: Fare (float64) and Pclass (int64) have by far the highest correlation with Survived (int64). We cannot yet reference correlation of Name, Sex, Cabin, Ticket and Embarked (all objects). I discard Age, PassengerId, SibSp, Parch and Embarked (lack of correlation with Survived), as well as Cabin (too many missing values), Name and Ticket."
      ]
    },
    {
      "cell_type": "markdown",
      "metadata": {
        "id": "z3nJ3u1RfZMc"
      },
      "source": [
        "*Dependent variable*: Survived (int64)\n",
        "\n",
        "*Independent variables*: Fare (float64), Pclass (int64) and Sex (object)"
      ]
    },
    {
      "cell_type": "markdown",
      "metadata": {
        "id": "E0wDAajfb9bs"
      },
      "source": [
        "**Data cleaning and processing**"
      ]
    },
    {
      "cell_type": "markdown",
      "metadata": {
        "id": "RJ6Kg4vFeOc0"
      },
      "source": [
        "*Tasks*: \n",
        "\n",
        "Fare (float64)\n",
        "*   Replacing all Fare values > 200 with Mean\n",
        "*   Normalizing Fare values\n",
        "\n",
        "Sex (object)\n",
        "*   Handle imbalanced genders\n",
        "*   Labeld encoding\n",
        "\n",
        "Pclass (int64)\n",
        "*   Transforming Pclass to float64\n",
        "*   Handle imbalanced class Pclass\n",
        "\n",
        "\n",
        "*Algorithm tasks*:\n",
        "*   Handle imbalanced classes: Survived\n",
        "\n",
        "\n",
        "\n",
        "\n",
        "\n"
      ]
    },
    {
      "cell_type": "code",
      "metadata": {
        "id": "u09Bfhf0kDaA",
        "outputId": "ac7b9477-b9e6-45a3-da50-ecc35e2e5c38",
        "colab": {
          "base_uri": "https://localhost:8080/",
          "height": 194
        }
      },
      "source": [
        "df_train = df_train[['Survived','Fare','Sex','Pclass']]\n",
        "df_test = df_test[['Fare','Sex','Pclass']]\n",
        "df_train.head()"
      ],
      "execution_count": null,
      "outputs": [
        {
          "output_type": "execute_result",
          "data": {
            "text/html": [
              "<div>\n",
              "<style scoped>\n",
              "    .dataframe tbody tr th:only-of-type {\n",
              "        vertical-align: middle;\n",
              "    }\n",
              "\n",
              "    .dataframe tbody tr th {\n",
              "        vertical-align: top;\n",
              "    }\n",
              "\n",
              "    .dataframe thead th {\n",
              "        text-align: right;\n",
              "    }\n",
              "</style>\n",
              "<table border=\"1\" class=\"dataframe\">\n",
              "  <thead>\n",
              "    <tr style=\"text-align: right;\">\n",
              "      <th></th>\n",
              "      <th>Survived</th>\n",
              "      <th>Fare</th>\n",
              "      <th>Sex</th>\n",
              "      <th>Pclass</th>\n",
              "    </tr>\n",
              "  </thead>\n",
              "  <tbody>\n",
              "    <tr>\n",
              "      <th>0</th>\n",
              "      <td>0</td>\n",
              "      <td>7.2500</td>\n",
              "      <td>male</td>\n",
              "      <td>3</td>\n",
              "    </tr>\n",
              "    <tr>\n",
              "      <th>1</th>\n",
              "      <td>1</td>\n",
              "      <td>71.2833</td>\n",
              "      <td>female</td>\n",
              "      <td>1</td>\n",
              "    </tr>\n",
              "    <tr>\n",
              "      <th>2</th>\n",
              "      <td>1</td>\n",
              "      <td>7.9250</td>\n",
              "      <td>female</td>\n",
              "      <td>3</td>\n",
              "    </tr>\n",
              "    <tr>\n",
              "      <th>3</th>\n",
              "      <td>1</td>\n",
              "      <td>53.1000</td>\n",
              "      <td>female</td>\n",
              "      <td>1</td>\n",
              "    </tr>\n",
              "    <tr>\n",
              "      <th>4</th>\n",
              "      <td>0</td>\n",
              "      <td>8.0500</td>\n",
              "      <td>male</td>\n",
              "      <td>3</td>\n",
              "    </tr>\n",
              "  </tbody>\n",
              "</table>\n",
              "</div>"
            ],
            "text/plain": [
              "   Survived     Fare     Sex  Pclass\n",
              "0         0   7.2500    male       3\n",
              "1         1  71.2833  female       1\n",
              "2         1   7.9250  female       3\n",
              "3         1  53.1000  female       1\n",
              "4         0   8.0500    male       3"
            ]
          },
          "metadata": {
            "tags": []
          },
          "execution_count": 366
        }
      ]
    },
    {
      "cell_type": "markdown",
      "metadata": {
        "id": "XK0akT7Is6dS"
      },
      "source": [
        "*Sex*"
      ]
    },
    {
      "cell_type": "code",
      "metadata": {
        "id": "sG2CRSaOnW-4",
        "outputId": "51566cf8-adbb-40aa-9c4a-6b06c7ae2ee6",
        "colab": {
          "base_uri": "https://localhost:8080/"
        }
      },
      "source": [
        "from sklearn.utils import resample\n",
        "\n",
        "# Separate majority and minority classes\n",
        "Sex_majority = df_train[df_train.Sex=='male']\n",
        "Sex_minority = df_train[df_train.Sex=='female']\n",
        " \n",
        "# Upsample minority class\n",
        "Sex_minority_upsampled = resample(Sex_minority, replace=True, n_samples=577, random_state=123) \n",
        " \n",
        "# Combine majority class with upsampled minority class\n",
        "df_train = pd.concat([Sex_majority, Sex_minority_upsampled])\n",
        " \n",
        "# Display new class counts\n",
        "df_train.Sex.value_counts()"
      ],
      "execution_count": null,
      "outputs": [
        {
          "output_type": "execute_result",
          "data": {
            "text/plain": [
              "female    577\n",
              "male      577\n",
              "Name: Sex, dtype: int64"
            ]
          },
          "metadata": {
            "tags": []
          },
          "execution_count": 367
        }
      ]
    },
    {
      "cell_type": "code",
      "metadata": {
        "id": "UOtOJDBBvCA5",
        "outputId": "44f9ba0f-9b15-4d7e-f82b-b381d4c33863",
        "colab": {
          "base_uri": "https://localhost:8080/"
        }
      },
      "source": [
        "from sklearn.preprocessing import LabelEncoder\n",
        "labelencoder = LabelEncoder()\n",
        "df_train['Sex'] = labelencoder.fit_transform(df_train['Sex'])\n",
        "df_train.Sex = df_train['Sex'].astype(float) \n",
        "df_train.Sex.head()"
      ],
      "execution_count": null,
      "outputs": [
        {
          "output_type": "execute_result",
          "data": {
            "text/plain": [
              "0    1.0\n",
              "4    1.0\n",
              "5    1.0\n",
              "6    1.0\n",
              "7    1.0\n",
              "Name: Sex, dtype: float64"
            ]
          },
          "metadata": {
            "tags": []
          },
          "execution_count": 368
        }
      ]
    },
    {
      "cell_type": "code",
      "metadata": {
        "id": "Bvcici5GNuFU"
      },
      "source": [
        "df_test['Sex'] = labelencoder.fit_transform(df_test['Sex'])\n",
        "df_test.Sex = df_test['Sex'].astype(float) "
      ],
      "execution_count": null,
      "outputs": []
    },
    {
      "cell_type": "markdown",
      "metadata": {
        "id": "5ZkMGkc4s4r_"
      },
      "source": [
        "*Pclass*"
      ]
    },
    {
      "cell_type": "code",
      "metadata": {
        "id": "k2Cq3mhKlYEg",
        "outputId": "fe73e09d-1aab-49cb-f003-14d0d20430b7",
        "colab": {
          "base_uri": "https://localhost:8080/"
        }
      },
      "source": [
        "Pclass_majority = df_train[df_train.Pclass==3]\n",
        "Pclass_minority1 = df_train[df_train.Pclass==1]\n",
        "Pclass_minority2 = df_train[df_train.Pclass==2]\n",
        "Pclass_minority_upsampled1 = resample(Pclass_minority1, replace=True, n_samples=491, random_state=123)\n",
        "Pclass_minority_upsampled2 = resample(Pclass_minority2, replace=True, n_samples=491, random_state=123) \n",
        "df_train = pd.concat([Pclass_majority, Pclass_minority_upsampled1, Pclass_minority_upsampled2])\n",
        "df_train.Pclass.value_counts()"
      ],
      "execution_count": null,
      "outputs": [
        {
          "output_type": "execute_result",
          "data": {
            "text/plain": [
              "3    593\n",
              "2    491\n",
              "1    491\n",
              "Name: Pclass, dtype: int64"
            ]
          },
          "metadata": {
            "tags": []
          },
          "execution_count": 370
        }
      ]
    },
    {
      "cell_type": "code",
      "metadata": {
        "id": "WQSycgamfBJc",
        "outputId": "06f45668-75b1-4dc7-9827-bad1378cf285",
        "colab": {
          "base_uri": "https://localhost:8080/"
        }
      },
      "source": [
        "def floatizer(variable):\n",
        "  variable = variable.astype(float)\n",
        "  print(variable.dtype)\n",
        "floatizer(df_train.Pclass)\n",
        "floatizer(df_test.Pclass)"
      ],
      "execution_count": null,
      "outputs": [
        {
          "output_type": "stream",
          "text": [
            "float64\n",
            "float64\n"
          ],
          "name": "stdout"
        }
      ]
    },
    {
      "cell_type": "markdown",
      "metadata": {
        "id": "6fvcJ9Egstpm"
      },
      "source": [
        "*Fare*"
      ]
    },
    {
      "cell_type": "code",
      "metadata": {
        "id": "87vljk3wp2Wc",
        "outputId": "d427dbc9-2ca2-4e33-c8c1-77c9ac235c9e",
        "colab": {
          "base_uri": "https://localhost:8080/"
        }
      },
      "source": [
        "df_train.Fare[df_train.Fare > 200] = df_train.Fare.mean()\n",
        "from sklearn import preprocessing\n",
        "\n",
        "# Create x, where x the 'scores' column's values as floats\n",
        "x = df_train[['Fare']].values.astype(float)\n",
        "\n",
        "# Create a minimum and maximum processor object\n",
        "min_max_scaler = preprocessing.MinMaxScaler()\n",
        "\n",
        "# Create an object to transform the data to fit minmax processor\n",
        "x_scaled = min_max_scaler.fit_transform(x)\n",
        "\n",
        "# Run the normalizer on the dataframe\n",
        "df_train.Fare = pd.DataFrame(x_scaled)\n",
        "df_train.Fare.head()"
      ],
      "execution_count": null,
      "outputs": [
        {
          "output_type": "stream",
          "text": [
            "/usr/local/lib/python3.6/dist-packages/ipykernel_launcher.py:1: SettingWithCopyWarning: \n",
            "A value is trying to be set on a copy of a slice from a DataFrame\n",
            "\n",
            "See the caveats in the documentation: https://pandas.pydata.org/pandas-docs/stable/user_guide/indexing.html#returning-a-view-versus-a-copy\n",
            "  \"\"\"Entry point for launching an IPython kernel.\n"
          ],
          "name": "stderr"
        },
        {
          "output_type": "execute_result",
          "data": {
            "text/plain": [
              "0     0.043975\n",
              "4     0.048827\n",
              "5     0.189699\n",
              "7     0.043823\n",
              "12    0.048827\n",
              "Name: Fare, dtype: float64"
            ]
          },
          "metadata": {
            "tags": []
          },
          "execution_count": 372
        }
      ]
    },
    {
      "cell_type": "code",
      "metadata": {
        "id": "VsBC5iy0x8nj",
        "outputId": "f3f41847-c1f4-4110-ffb6-75d4dec03383",
        "colab": {
          "base_uri": "https://localhost:8080/"
        }
      },
      "source": [
        "df_train.dtypes"
      ],
      "execution_count": null,
      "outputs": [
        {
          "output_type": "execute_result",
          "data": {
            "text/plain": [
              "Survived      int64\n",
              "Fare        float64\n",
              "Sex         float64\n",
              "Pclass        int64\n",
              "dtype: object"
            ]
          },
          "metadata": {
            "tags": []
          },
          "execution_count": 373
        }
      ]
    },
    {
      "cell_type": "code",
      "metadata": {
        "id": "WKvG7E9zy9Aw",
        "outputId": "6ee66e8a-dcf1-485b-8b3b-f0dafb9b12af",
        "colab": {
          "base_uri": "https://localhost:8080/",
          "height": 194
        }
      },
      "source": [
        "df_train.head()"
      ],
      "execution_count": null,
      "outputs": [
        {
          "output_type": "execute_result",
          "data": {
            "text/html": [
              "<div>\n",
              "<style scoped>\n",
              "    .dataframe tbody tr th:only-of-type {\n",
              "        vertical-align: middle;\n",
              "    }\n",
              "\n",
              "    .dataframe tbody tr th {\n",
              "        vertical-align: top;\n",
              "    }\n",
              "\n",
              "    .dataframe thead th {\n",
              "        text-align: right;\n",
              "    }\n",
              "</style>\n",
              "<table border=\"1\" class=\"dataframe\">\n",
              "  <thead>\n",
              "    <tr style=\"text-align: right;\">\n",
              "      <th></th>\n",
              "      <th>Survived</th>\n",
              "      <th>Fare</th>\n",
              "      <th>Sex</th>\n",
              "      <th>Pclass</th>\n",
              "    </tr>\n",
              "  </thead>\n",
              "  <tbody>\n",
              "    <tr>\n",
              "      <th>0</th>\n",
              "      <td>0</td>\n",
              "      <td>0.043975</td>\n",
              "      <td>1.0</td>\n",
              "      <td>3</td>\n",
              "    </tr>\n",
              "    <tr>\n",
              "      <th>4</th>\n",
              "      <td>0</td>\n",
              "      <td>0.048827</td>\n",
              "      <td>1.0</td>\n",
              "      <td>3</td>\n",
              "    </tr>\n",
              "    <tr>\n",
              "      <th>5</th>\n",
              "      <td>0</td>\n",
              "      <td>0.189699</td>\n",
              "      <td>1.0</td>\n",
              "      <td>3</td>\n",
              "    </tr>\n",
              "    <tr>\n",
              "      <th>7</th>\n",
              "      <td>0</td>\n",
              "      <td>0.043823</td>\n",
              "      <td>1.0</td>\n",
              "      <td>3</td>\n",
              "    </tr>\n",
              "    <tr>\n",
              "      <th>12</th>\n",
              "      <td>0</td>\n",
              "      <td>0.048827</td>\n",
              "      <td>1.0</td>\n",
              "      <td>3</td>\n",
              "    </tr>\n",
              "  </tbody>\n",
              "</table>\n",
              "</div>"
            ],
            "text/plain": [
              "    Survived      Fare  Sex  Pclass\n",
              "0          0  0.043975  1.0       3\n",
              "4          0  0.048827  1.0       3\n",
              "5          0  0.189699  1.0       3\n",
              "7          0  0.043823  1.0       3\n",
              "12         0  0.048827  1.0       3"
            ]
          },
          "metadata": {
            "tags": []
          },
          "execution_count": 374
        }
      ]
    },
    {
      "cell_type": "markdown",
      "metadata": {
        "id": "jbYxmFi4zJVr"
      },
      "source": [
        "**Model setup**"
      ]
    },
    {
      "cell_type": "code",
      "metadata": {
        "id": "Pz_-6XXFzYH7",
        "outputId": "c4358fd8-1645-4f9b-e805-440073d2206f",
        "colab": {
          "base_uri": "https://localhost:8080/",
          "height": 194
        }
      },
      "source": [
        "from sklearn.model_selection import train_test_split\n",
        "from sklearn.utils import shuffle\n",
        "df_train = shuffle(df_train)\n",
        "x = df_train.iloc[:,1:]\n",
        "y = df_train.Survived\n",
        "x_train, x_test, y_train, y_test = train_test_split(x, y, test_size = 0.1)\n",
        "x_train.head()"
      ],
      "execution_count": null,
      "outputs": [
        {
          "output_type": "execute_result",
          "data": {
            "text/html": [
              "<div>\n",
              "<style scoped>\n",
              "    .dataframe tbody tr th:only-of-type {\n",
              "        vertical-align: middle;\n",
              "    }\n",
              "\n",
              "    .dataframe tbody tr th {\n",
              "        vertical-align: top;\n",
              "    }\n",
              "\n",
              "    .dataframe thead th {\n",
              "        text-align: right;\n",
              "    }\n",
              "</style>\n",
              "<table border=\"1\" class=\"dataframe\">\n",
              "  <thead>\n",
              "    <tr style=\"text-align: right;\">\n",
              "      <th></th>\n",
              "      <th>Fare</th>\n",
              "      <th>Sex</th>\n",
              "      <th>Pclass</th>\n",
              "    </tr>\n",
              "  </thead>\n",
              "  <tbody>\n",
              "    <tr>\n",
              "      <th>588</th>\n",
              "      <td>0.133593</td>\n",
              "      <td>1.0</td>\n",
              "      <td>3</td>\n",
              "    </tr>\n",
              "    <tr>\n",
              "      <th>594</th>\n",
              "      <td>0.345734</td>\n",
              "      <td>1.0</td>\n",
              "      <td>2</td>\n",
              "    </tr>\n",
              "    <tr>\n",
              "      <th>706</th>\n",
              "      <td>0.456429</td>\n",
              "      <td>0.0</td>\n",
              "      <td>2</td>\n",
              "    </tr>\n",
              "    <tr>\n",
              "      <th>862</th>\n",
              "      <td>0.252977</td>\n",
              "      <td>0.0</td>\n",
              "      <td>1</td>\n",
              "    </tr>\n",
              "    <tr>\n",
              "      <th>402</th>\n",
              "      <td>0.135614</td>\n",
              "      <td>0.0</td>\n",
              "      <td>3</td>\n",
              "    </tr>\n",
              "  </tbody>\n",
              "</table>\n",
              "</div>"
            ],
            "text/plain": [
              "         Fare  Sex  Pclass\n",
              "588  0.133593  1.0       3\n",
              "594  0.345734  1.0       2\n",
              "706  0.456429  0.0       2\n",
              "862  0.252977  0.0       1\n",
              "402  0.135614  0.0       3"
            ]
          },
          "metadata": {
            "tags": []
          },
          "execution_count": 375
        }
      ]
    },
    {
      "cell_type": "markdown",
      "metadata": {
        "id": "zIwOFrIq35NU"
      },
      "source": [
        "**Training the model - XGBClassifier**"
      ]
    },
    {
      "cell_type": "code",
      "metadata": {
        "id": "YTlZUvsy1ub9"
      },
      "source": [
        "import xgboost as xgb\n",
        "from sklearn.metrics import accuracy_score\n",
        "from xgboost import XGBClassifier\n",
        "xgb_model = XGBClassifier(booster='gbtree', n_estimators = 10000, learning_rate = 0.01, min_split_loss =0, reg_alpha=0, scale_pos_weight=1, subsample=1, max_depth=15, gamma=0)\n",
        "xgb_model.fit(x_train, y_train, eval_set = [(x_test, y_test)],early_stopping_rounds = 10, verbose = False)\n",
        "xgb_predictions = xgb_model.predict(x_test, ntree_limit=xgb_model.best_ntree_limit)\n",
        "xgb_predictions = xgb_predictions.round()"
      ],
      "execution_count": null,
      "outputs": []
    },
    {
      "cell_type": "markdown",
      "metadata": {
        "id": "9_veaQ563zxD"
      },
      "source": [
        "**Model evaluation**"
      ]
    },
    {
      "cell_type": "code",
      "metadata": {
        "id": "qFz6Rltx2M4W",
        "outputId": "32417fa3-1e9a-482e-f8e0-d75e52f89814",
        "colab": {
          "base_uri": "https://localhost:8080/"
        }
      },
      "source": [
        "accuracy  = accuracy_score(y_test, xgb_predictions)\n",
        "print (\"Accuracy of XGBoost: %.2f%%\" %(accuracy*100))\n",
        "xgb_predictions = np.asarray(xgb_predictions, dtype = int)\n",
        "from sklearn.metrics import confusion_matrix\n",
        "cm = confusion_matrix(y_test, xgb_predictions)\n",
        "print(cm)\n",
        "from sklearn.metrics import roc_auc_score\n",
        "cap = roc_auc_score(y_test, xgb_predictions, average='macro', sample_weight=None)\n",
        "print('AUC Score:', cap)\n",
        "from sklearn.metrics import f1_score\n",
        "f1 = f1_score(y_test, xgb_predictions, average='weighted')\n",
        "print('f1 Score is:', f1)"
      ],
      "execution_count": null,
      "outputs": [
        {
          "output_type": "stream",
          "text": [
            "Accuracy of XGBoost: 82.91%\n",
            "[[59 12]\n",
            " [15 72]]\n",
            "AUC Score: 0.8292860611947547\n",
            "f1 Score is: 0.82938271037699\n"
          ],
          "name": "stdout"
        }
      ]
    },
    {
      "cell_type": "markdown",
      "metadata": {
        "id": "h2m1hgQf5lN_"
      },
      "source": [
        "**Model optimization**"
      ]
    },
    {
      "cell_type": "code",
      "metadata": {
        "id": "_YT_6cgbq6qJ",
        "outputId": "deddca96-d2f2-45b3-b36e-46aa43d4c791",
        "colab": {
          "base_uri": "https://localhost:8080/",
          "height": 71
        }
      },
      "source": [
        "'''\n",
        "#with GridSearchCV for hyperparameter tuning\n",
        "from sklearn.model_selection import GridSearchCV\n",
        "parameters = [{'booster': ['gbtree', 'gblinear'],'learning_rate': [0.1,0.3,0.5],'min_split_loss': [0,1,10]}]\n",
        "grid_search = GridSearchCV(estimator = xgb_model, param_grid = parameters)\n",
        "grid_search.fit(x_train, y_train)\n",
        "print(\"Best Grid CV Score:\", grid_search.best_score_)\n",
        "print(\"Best Grid CV Params:\", grid_search.best_params_)\n",
        "'''"
      ],
      "execution_count": null,
      "outputs": [
        {
          "output_type": "execute_result",
          "data": {
            "application/vnd.google.colaboratory.intrinsic+json": {
              "type": "string"
            },
            "text/plain": [
              "'\\n#with GridSearchCV for hyperparameter tuning\\nfrom sklearn.model_selection import GridSearchCV\\nparameters = [{\\'booster\\': [\\'gbtree\\', \\'gblinear\\'],\\'learning_rate\\': [0.1,0.3,0.5],\\'min_split_loss\\': [0,1,10]}]\\ngrid_search = GridSearchCV(estimator = xgb_model, param_grid = parameters)\\ngrid_search.fit(x_train, y_train)\\nprint(\"Best Grid CV Score:\", grid_search.best_score_)\\nprint(\"Best Grid CV Params:\", grid_search.best_params_)\\n'"
            ]
          },
          "metadata": {
            "tags": []
          },
          "execution_count": 378
        }
      ]
    },
    {
      "cell_type": "markdown",
      "metadata": {
        "id": "-E4pxyLo7Dcd"
      },
      "source": [
        "**Model alternative - Random Forest**"
      ]
    },
    {
      "cell_type": "code",
      "metadata": {
        "id": "ej4hEK4WeQZm"
      },
      "source": [
        "from sklearn.ensemble import RandomForestClassifier\n",
        "rfc = RandomForestClassifier(n_estimators = 300,bootstrap='True',criterion='gini',min_samples_leaf=1,min_samples_split=2)\n",
        "rfc.fit(x_train, y_train)\n",
        "rfc_predictions = rfc.predict(x_test)"
      ],
      "execution_count": null,
      "outputs": []
    },
    {
      "cell_type": "markdown",
      "metadata": {
        "id": "M-rJBAIg7pNG"
      },
      "source": [
        "**Evaluation of alternative model**"
      ]
    },
    {
      "cell_type": "code",
      "metadata": {
        "id": "SheSxhds7sjM",
        "outputId": "e24f8cd0-f923-401f-d249-e7dfc064772c",
        "colab": {
          "base_uri": "https://localhost:8080/"
        }
      },
      "source": [
        "from sklearn.metrics import classification_report,confusion_matrix\n",
        "accuracy  = accuracy_score(y_test, rfc_predictions)\n",
        "print (\"Accuracy of Random Forest: %.2f%%\" %(accuracy*100) )"
      ],
      "execution_count": null,
      "outputs": [
        {
          "output_type": "stream",
          "text": [
            "Accuracy of Random Forest: 87.97%\n"
          ],
          "name": "stdout"
        }
      ]
    },
    {
      "cell_type": "markdown",
      "metadata": {
        "id": "LaSRCM128GHT"
      },
      "source": [
        "**Optimization of alternative model**"
      ]
    },
    {
      "cell_type": "code",
      "metadata": {
        "id": "zl_pn6oO8Nj6",
        "outputId": "18a7da71-1a9a-457f-ae89-7c6e0ad87140",
        "colab": {
          "base_uri": "https://localhost:8080/",
          "height": 71
        }
      },
      "source": [
        "'''\n",
        "from sklearn.model_selection import GridSearchCV\n",
        "parameters = [{'criterion': ['gini', 'entropy'], 'min_samples_split': [2,4], \n",
        "               'min_samples_leaf': [1,3], 'bootstrap': ['True','False']}]\n",
        "grid_search = GridSearchCV(estimator = rfc, param_grid = parameters)\n",
        "grid_search.fit(x_train, y_train)\n",
        "print(\"Best Grid CV Score:\", grid_search.best_score_)\n",
        "print(\"Best Grid CV Params:\", grid_search.best_params_)\n",
        "'''"
      ],
      "execution_count": null,
      "outputs": [
        {
          "output_type": "execute_result",
          "data": {
            "application/vnd.google.colaboratory.intrinsic+json": {
              "type": "string"
            },
            "text/plain": [
              "'\\nfrom sklearn.model_selection import GridSearchCV\\nparameters = [{\\'criterion\\': [\\'gini\\', \\'entropy\\'], \\'min_samples_split\\': [2,4], \\n               \\'min_samples_leaf\\': [1,3], \\'bootstrap\\': [\\'True\\',\\'False\\']}]\\ngrid_search = GridSearchCV(estimator = rfc, param_grid = parameters)\\ngrid_search.fit(x_train, y_train)\\nprint(\"Best Grid CV Score:\", grid_search.best_score_)\\nprint(\"Best Grid CV Params:\", grid_search.best_params_)\\n'"
            ]
          },
          "metadata": {
            "tags": []
          },
          "execution_count": 381
        }
      ]
    },
    {
      "cell_type": "markdown",
      "metadata": {
        "id": "qyGKlwnW_HKS"
      },
      "source": [
        "**Predicting test data with trained model and writing results to CSV that is then saved on Google Drive**"
      ]
    },
    {
      "cell_type": "code",
      "metadata": {
        "id": "9e0SPWfI_K0l",
        "outputId": "c26fa8b2-d7bc-4948-a25a-f84e4301e31c",
        "colab": {
          "base_uri": "https://localhost:8080/"
        }
      },
      "source": [
        "#uploading to Google Drive for further use\n",
        "!pip install -U -q PyDrive\n",
        "import scipy.sparse as sparse\n",
        "from pydrive.drive import GoogleDrive\n",
        "from pydrive.auth import GoogleAuth\n",
        "from google.colab import auth, files\n",
        "from oauth2client.client import GoogleCredentials\n",
        "model = xgb_model\n",
        "model.fit(x_train,y_train)\n",
        "output = model.predict(df_test).astype(int)\n",
        "df_output = pd.DataFrame()\n",
        "aux = pd.read_csv('https://raw.githubusercontent.com/Valdini/Titanic-Prediction-Regression-/master/test.csv')\n",
        "df_output['PassengerId'] = aux['PassengerId']\n",
        "df_output['Survived'] = output\n",
        "df_output[['PassengerId', 'Survived']].to_csv('./valentin_submission.csv', index=False)\n",
        "auth.authenticate_user()\n",
        "gauth = GoogleAuth()\n",
        "gauth.credentials = GoogleCredentials.get_application_default()\n",
        "drive = GoogleDrive(gauth)\n",
        "uploaded = drive.CreateFile({'title': 'valentin_submission.csv'})\n",
        "uploaded.SetContentFile('valentin_submission.csv')\n",
        "uploaded.Upload()\n",
        "print('Uploaded file with ID {}'.format(uploaded.get('id')))"
      ],
      "execution_count": null,
      "outputs": [
        {
          "output_type": "stream",
          "text": [
            "Uploaded file with ID 1lh62lY_3FTcbNa_7zEoTykSNebNv9W0G\n"
          ],
          "name": "stdout"
        }
      ]
    }
  ]
}